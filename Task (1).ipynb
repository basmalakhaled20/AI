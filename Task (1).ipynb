{
  "nbformat": 4,
  "nbformat_minor": 0,
  "metadata": {
    "colab": {
      "provenance": []
    },
    "kernelspec": {
      "name": "python3",
      "display_name": "Python 3"
    },
    "language_info": {
      "name": "python"
    }
  },
  "cells": [
    {
      "cell_type": "markdown",
      "source": [
        "# **1- Write a Python program to find the area of a triangle**"
      ],
      "metadata": {
        "id": "QK-uPzlFh7t5"
      }
    },
    {
      "cell_type": "code",
      "source": [
        "def area_of_triangle():\n",
        "    base = float(input(\"Please enter the base: \"))\n",
        "    height = float(input(\"Please enter the height: \"))\n",
        "    area = 0.5 * base * height\n",
        "    print(\"The area of the triangle is:\", area)\n",
        "\n",
        "area_of_triangle()"
      ],
      "metadata": {
        "colab": {
          "base_uri": "https://localhost:8080/"
        },
        "id": "G1ezkBX3R5-L",
        "outputId": "a0c0c345-758a-41e2-fc8d-33d3a8b68bca"
      },
      "execution_count": 2,
      "outputs": [
        {
          "output_type": "stream",
          "name": "stdout",
          "text": [
            "Please enter the base: 10\n",
            "Please enter the height: 20\n",
            "The area of the triangle is: 100.0\n"
          ]
        }
      ]
    },
    {
      "cell_type": "markdown",
      "source": [
        "# **2- Write a Python program to swap two variables.**"
      ],
      "metadata": {
        "id": "qAF7KBXWiC51"
      }
    },
    {
      "cell_type": "code",
      "source": [
        "def swap_two_variable():\n",
        "    A = float(input(\"Please enter the first variable : \"))\n",
        "    B = float(input(\"Please enter the secound variable: \"))\n",
        "    temp = A\n",
        "    A = B\n",
        "    B = temp\n",
        "    print(\"A = :\", A)\n",
        "    print(\"B = :\", B)\n",
        "\n",
        "swap_two_variable()"
      ],
      "metadata": {
        "colab": {
          "base_uri": "https://localhost:8080/"
        },
        "id": "UBO-c8XdSLTA",
        "outputId": "57dcf234-f786-447d-b9fa-76618c87f069"
      },
      "execution_count": 1,
      "outputs": [
        {
          "output_type": "stream",
          "name": "stdout",
          "text": [
            "Please enter the first variable : 3\n",
            "Please enter the secound variable: 4\n",
            "A = : 4.0\n",
            "B = : 3.0\n"
          ]
        }
      ]
    },
    {
      "cell_type": "markdown",
      "source": [
        "# **3-Write a Python program to enter a number from user and convert this number from kilometers to miles.**"
      ],
      "metadata": {
        "id": "RqvA6avxiLrK"
      }
    },
    {
      "cell_type": "code",
      "source": [
        "def kilometers_to_miles():\n",
        "    kilometers = float(input(\"Please enter the distance in kilometers: \"))\n",
        "    miles = kilometers * 0.62137119\n",
        "    print(\"The distance in miles is:\", miles)\n",
        "\n",
        "kilometers_to_miles()"
      ],
      "metadata": {
        "colab": {
          "base_uri": "https://localhost:8080/"
        },
        "id": "SDx116gmUcSP",
        "outputId": "ddb1d8bd-a7ff-48a3-b539-d3171dc9821c"
      },
      "execution_count": 3,
      "outputs": [
        {
          "output_type": "stream",
          "name": "stdout",
          "text": [
            "Please enter the distance in kilometers: 1000\n",
            "The distance in miles is: 621.37119\n"
          ]
        }
      ]
    }
  ]
}
